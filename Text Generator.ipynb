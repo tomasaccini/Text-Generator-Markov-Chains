{
 "cells": [
  {
   "cell_type": "markdown",
   "metadata": {},
   "source": [
    "# Text Generator\n",
    "\n",
    "We are going to develop a text generator based on Markov Chains, and try different inputs and hiperparameters in order to achieve concrete outcomes that help us understand the possibilities of this technique. "
   ]
  },
  {
   "cell_type": "markdown",
   "metadata": {},
   "source": [
    "First we are going to model the problem with some classes in order to make the development easier."
   ]
  },
  {
   "cell_type": "code",
   "execution_count": null,
   "metadata": {},
   "outputs": [],
   "source": [
    "from numpy.random import choice\n",
    "\n",
    "class Word:\n",
    "    def __init__(self, word):\n",
    "        self.word = word\n",
    "        self.count_following_words = 0\n",
    "        self.following_words = {}\n",
    "        \n",
    "    def __repr__(self):\n",
    "        return self.word\n",
    "    \n",
    "    def __str__(self):\n",
    "        return self.word\n",
    "    \n",
    "    def __hash__(self):\n",
    "        return hash(self.word)\n",
    "    \n",
    "    def __eq__(self, other):\n",
    "        return type(other) == Word and self.word == other.word\n",
    "    \n",
    "    def __ne__(self, other):\n",
    "        return type(other) != Word or self.word != other.word\n",
    "        \n",
    "    def add_following_word(self, other_word):\n",
    "        self.following_words[other_word] = self.following_words.get(other_word, 0) + 1\n",
    "        self.count_following_words += 1\n",
    "        \n",
    "    def generate_next_word(self):\n",
    "        next_words = list(self.following_words.keys())\n",
    "        next_words_prob = list(map(lambda x: x / self.count_following_words, list(self.following_words.values())))\n",
    "        if len(next_words) == 0:\n",
    "            return None\n",
    "        return choice(next_words, 1, p=next_words_prob)[0]\n",
    "    \n",
    "    \n",
    "class TextGenerator:\n",
    "    def __init__(self, text):\n",
    "        self.words_dict = {}\n",
    "        self.words_list = []\n",
    "        self.punctuation = \"'!()-[]{};:\\\"\\,<>./?@#$%^&*_~\"\n",
    "        self.text = text\n",
    "        \n",
    "    def process_text(self):\n",
    "        self.split_words()\n",
    "        self.calculate_probabilities()\n",
    "        \n",
    "    def split_words(self):\n",
    "        words = self.text.split()\n",
    "        for word in words:\n",
    "            self.words_dict[word] = self.words_dict.get(word, Word(self.curate_word(word)))\n",
    "            self.words_list.append(self.words_dict[word])\n",
    "        \n",
    "    def calculate_probabilities(self):\n",
    "        for i in range(len(self.words_list) - 1):\n",
    "            self.words_list[i].add_following_word(self.words_list[i + 1])\n",
    "\n",
    "    def curate_word(self, word):\n",
    "        word = word.lower()\n",
    "        curated_word = \"\"\n",
    "        for c in word:\n",
    "            if c not in self.punctuation:\n",
    "                curated_word += c\n",
    "        return curated_word\n",
    "    \n",
    "    def generate_text(self, length):\n",
    "        self.debug()\n",
    "        generated_text = [self.pick_random_word()]\n",
    "        for i in range(length - 1):\n",
    "            next_word = generated_text[i].generate_next_word()\n",
    "            if next_word == None:\n",
    "                next_word = self.pick_random_word()\n",
    "                print(\"RANDOM: \" + str(next_word))\n",
    "            generated_text.append(next_word)\n",
    "        return ' '.join(list(map(lambda x: x.word, generated_text)))\n",
    "        \n",
    "    def pick_random_word(self):\n",
    "        return choice(list(self.words_dict.values()))\n",
    "    \n",
    "    def debug(self):\n",
    "        for word in self.words_dict.values():\n",
    "            print(word.word + \" \" + str(word.following_words))"
   ]
  },
  {
   "cell_type": "code",
   "execution_count": null,
   "metadata": {},
   "outputs": [],
   "source": [
    "textGenerator = TextGenerator('1 22 1 3 1')\n",
    "textGenerator.process_text()\n",
    "textGenerator.generate_text(10)"
   ]
  }
 ],
 "metadata": {
  "kernelspec": {
   "display_name": "Python 3",
   "language": "python",
   "name": "python3"
  },
  "language_info": {
   "codemirror_mode": {
    "name": "ipython",
    "version": 3
   },
   "file_extension": ".py",
   "mimetype": "text/x-python",
   "name": "python",
   "nbconvert_exporter": "python",
   "pygments_lexer": "ipython3",
   "version": "3.7.3"
  }
 },
 "nbformat": 4,
 "nbformat_minor": 2
}
